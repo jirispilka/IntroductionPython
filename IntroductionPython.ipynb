{
 "cells": [
  {
   "cell_type": "markdown",
   "metadata": {},
   "source": [
    "Scientific Programming in Python\n",
    "================================\n",
    "\n",
    "Created by:\n",
    "\n",
    "* Ian Stokes-Rees [ijstokes@continuum.io]\n",
    " \n",
    "Original version github:\n",
    " [https://github.com/ijstokes/python-sci-3h.git](https://github.com/ijstokes/python-sci-3h.git)\n",
    " \n",
    "Shortened by Jiri Spilka"
   ]
  },
  {
   "cell_type": "markdown",
   "metadata": {},
   "source": [
    "Basics\n",
    "======"
   ]
  },
  {
   "cell_type": "code",
   "execution_count": 40,
   "metadata": {},
   "outputs": [],
   "source": [
    "\"\"\"\n",
    "Exercise 1. Introduction to python\n",
    "\"\"\"\n",
    "\n",
    "import sys\n",
    "import os.path\n",
    "import numpy as np\n",
    "import matplotlib.pyplot as plt"
   ]
  },
  {
   "cell_type": "code",
   "execution_count": 41,
   "metadata": {},
   "outputs": [
    {
     "name": "stdout",
     "output_type": "stream",
     "text": [
      "True\n"
     ]
    }
   ],
   "source": [
    "#  ------ bool\n",
    "bb = True\n",
    "print(bb)"
   ]
  },
  {
   "cell_type": "code",
   "execution_count": 42,
   "metadata": {},
   "outputs": [
    {
     "name": "stdout",
     "output_type": "stream",
     "text": [
      "Results is =  3\n"
     ]
    }
   ],
   "source": [
    "a = 3\n",
    "b = 7\n",
    "print('Results is = ', a)"
   ]
  },
  {
   "cell_type": "code",
   "execution_count": 43,
   "metadata": {},
   "outputs": [],
   "source": [
    "x = 10\n",
    "y = 10."
   ]
  },
  {
   "cell_type": "code",
   "execution_count": 44,
   "metadata": {},
   "outputs": [
    {
     "name": "stdout",
     "output_type": "stream",
     "text": [
      "10 10.0\n",
      "<class 'int'> <class 'float'>\n"
     ]
    }
   ],
   "source": [
    "print(x, y)\n",
    "print(type(x), type(y))"
   ]
  },
  {
   "cell_type": "code",
   "execution_count": 45,
   "metadata": {},
   "outputs": [
    {
     "name": "stdout",
     "output_type": "stream",
     "text": [
      "70000.0\n"
     ]
    }
   ],
   "source": [
    "d = 7E4\n",
    "print(d)"
   ]
  },
  {
   "cell_type": "code",
   "execution_count": 46,
   "metadata": {},
   "outputs": [
    {
     "name": "stdout",
     "output_type": "stream",
     "text": [
      "(3+2j) <class 'complex'>\n"
     ]
    }
   ],
   "source": [
    "# ------- complex numbers\n",
    "\n",
    "d2 = 3 + 2j\n",
    "print(d2, type(d2))"
   ]
  },
  {
   "cell_type": "markdown",
   "metadata": {},
   "source": [
    "Tuples\n",
    "-------"
   ]
  },
  {
   "cell_type": "code",
   "execution_count": 47,
   "metadata": {},
   "outputs": [
    {
     "name": "stdout",
     "output_type": "stream",
     "text": [
      "('Arnost', 'Cech', 20)\n",
      "<class 'tuple'>\n"
     ]
    }
   ],
   "source": [
    "#  ------ tuples\n",
    "person = ('Arnost', 'Cech', 20)\n",
    "\n",
    "print(person)\n",
    "print(type(person))"
   ]
  },
  {
   "cell_type": "code",
   "execution_count": 48,
   "metadata": {},
   "outputs": [
    {
     "name": "stdout",
     "output_type": "stream",
     "text": [
      "Arnost\n"
     ]
    }
   ],
   "source": [
    "print(person[0])\n"
   ]
  },
  {
   "cell_type": "code",
   "execution_count": 49,
   "metadata": {},
   "outputs": [],
   "source": [
    "# assigment is not supported for tuple\n",
    "# person[0] = 'petr jan'"
   ]
  },
  {
   "cell_type": "code",
   "execution_count": 50,
   "metadata": {},
   "outputs": [
    {
     "ename": "SyntaxError",
     "evalue": "invalid syntax (<ipython-input-50-7a9a831cd765>, line 1)",
     "output_type": "error",
     "traceback": [
      "\u001b[0;36m  File \u001b[0;32m\"<ipython-input-50-7a9a831cd765>\"\u001b[0;36m, line \u001b[0;32m1\u001b[0m\n\u001b[0;31m    print()'Size of person: ', sys.getsizeof(person))\u001b[0m\n\u001b[0m                            ^\u001b[0m\n\u001b[0;31mSyntaxError\u001b[0m\u001b[0;31m:\u001b[0m invalid syntax\n"
     ]
    }
   ],
   "source": [
    "print()'Size of person: ', sys.getsizeof(person))\n"
   ]
  },
  {
   "cell_type": "markdown",
   "metadata": {},
   "source": [
    "Dictionaries\n",
    "--------------\n"
   ]
  },
  {
   "cell_type": "code",
   "execution_count": null,
   "metadata": {},
   "outputs": [],
   "source": [
    "d = dict()\n",
    "d['karel'] = 50\n",
    "d['petr'] = 30\n",
    "print d\n",
    "\n",
    "# alternatively\n",
    "dd = {'key1': 5, 'key2': 3}\n",
    "print(dd)\n"
   ]
  },
  {
   "cell_type": "markdown",
   "metadata": {},
   "source": [
    "Lists\n",
    "------"
   ]
  },
  {
   "cell_type": "code",
   "execution_count": null,
   "metadata": {},
   "outputs": [],
   "source": [
    "l = list([10, 20, 50, 100])\n",
    "l.append(50)\n",
    "l.pop()"
   ]
  },
  {
   "cell_type": "code",
   "execution_count": null,
   "metadata": {},
   "outputs": [],
   "source": [
    "print('Count {0}'.format(len(l)))"
   ]
  },
  {
   "cell_type": "code",
   "execution_count": null,
   "metadata": {},
   "outputs": [],
   "source": [
    "# list slicing, striding\n",
    "# this is list not an array\n",
    "nums = [3, 7, 2, 8, 5, 12, -5, 4]\n",
    "# len(nums)\n",
    "nums[7]\n",
    "nums[-1]\n",
    "nums[-2]\n",
    "nums[0]\n",
    "nums[3:6]  # half open interval: end index is NOT included\n",
    "nums[5]\n",
    "nums[1:7:2]\n",
    "nums\n",
    "nums[7:0:-2]"
   ]
  },
  {
   "cell_type": "code",
   "execution_count": null,
   "metadata": {},
   "outputs": [],
   "source": [
    "# power operations with power operator\n",
    "a"
   ]
  },
  {
   "cell_type": "code",
   "execution_count": null,
   "metadata": {},
   "outputs": [],
   "source": [
    "b"
   ]
  },
  {
   "cell_type": "code",
   "execution_count": null,
   "metadata": {},
   "outputs": [],
   "source": [
    "b**a   "
   ]
  },
  {
   "cell_type": "code",
   "execution_count": null,
   "metadata": {},
   "outputs": [],
   "source": [
    "nums"
   ]
  },
  {
   "cell_type": "code",
   "execution_count": null,
   "metadata": {},
   "outputs": [],
   "source": [
    "pow(b, a)"
   ]
  },
  {
   "cell_type": "code",
   "execution_count": null,
   "metadata": {},
   "outputs": [],
   "source": [
    "sum(nums)"
   ]
  },
  {
   "cell_type": "code",
   "execution_count": null,
   "metadata": {},
   "outputs": [],
   "source": [
    "max(nums)"
   ]
  },
  {
   "cell_type": "code",
   "execution_count": null,
   "metadata": {},
   "outputs": [],
   "source": [
    "min(nums)"
   ]
  },
  {
   "cell_type": "code",
   "execution_count": null,
   "metadata": {},
   "outputs": [],
   "source": [
    "range(5)"
   ]
  },
  {
   "cell_type": "code",
   "execution_count": null,
   "metadata": {},
   "outputs": [],
   "source": [
    "range(4, 12)"
   ]
  },
  {
   "cell_type": "code",
   "execution_count": null,
   "metadata": {
    "collapsed": true
   },
   "outputs": [],
   "source": [
    "# simple functions: params, defaults, return values, scoping\n",
    "def f(x):\n",
    "    ' a simple polynomial function '\n",
    "    return 3*x**2 + 8"
   ]
  },
  {
   "cell_type": "code",
   "execution_count": null,
   "metadata": {},
   "outputs": [],
   "source": [
    "help(f)"
   ]
  },
  {
   "cell_type": "code",
   "execution_count": null,
   "metadata": {},
   "outputs": [],
   "source": [
    "f(1.5)"
   ]
  },
  {
   "cell_type": "code",
   "execution_count": null,
   "metadata": {},
   "outputs": [],
   "source": [
    "f(3.7)"
   ]
  },
  {
   "cell_type": "code",
   "execution_count": null,
   "metadata": {
    "collapsed": true
   },
   "outputs": [],
   "source": [
    "def f_o(x, offset=8):\n",
    "    ''' a simple polynomial function with a configurable offset\n",
    "        offset default's to 8\n",
    "    '''\n",
    "    return 3*x**2 + offset"
   ]
  },
  {
   "cell_type": "code",
   "execution_count": null,
   "metadata": {},
   "outputs": [],
   "source": [
    "f_o(1.5)"
   ]
  },
  {
   "cell_type": "code",
   "execution_count": null,
   "metadata": {},
   "outputs": [],
   "source": [
    "f_o(1.5, offset=10)"
   ]
  },
  {
   "cell_type": "code",
   "execution_count": null,
   "metadata": {},
   "outputs": [],
   "source": [
    "f_o(1.5, 10)"
   ]
  },
  {
   "cell_type": "code",
   "execution_count": null,
   "metadata": {
    "collapsed": true
   },
   "outputs": [],
   "source": [
    "pfunkce = f_o"
   ]
  },
  {
   "cell_type": "code",
   "execution_count": null,
   "metadata": {},
   "outputs": [],
   "source": [
    "print(pfunkce(20))"
   ]
  },
  {
   "cell_type": "code",
   "execution_count": null,
   "metadata": {},
   "outputs": [],
   "source": [
    "# PEP 731 - use of lambda expressions is not recommended\n",
    "# g = lambda x: 7*x**3 + 2\n",
    "# print g(2)\n",
    "\n",
    "def g(x): return 7*x**3 + 2\n",
    "print(g(2))"
   ]
  },
  {
   "cell_type": "code",
   "execution_count": null,
   "metadata": {},
   "outputs": [],
   "source": [
    "with open('bostonarea.dat') as fh:\n",
    "    for line in fh:\n",
    "        parts = line.split()  # will remove leading and trailing whitespace\n",
    "        print(\"found parts:\", parts)"
   ]
  },
  {
   "cell_type": "code",
   "execution_count": null,
   "metadata": {
    "collapsed": true
   },
   "outputs": [],
   "source": [
    "# ----- matplotlib a numpy\n",
    "\n",
    "plt.hold()\n",
    "t1 = np.arange(0.0, 2.0, 0.1)\n",
    "t2 = np.arange(0.0, 2.0, 0.01)"
   ]
  },
  {
   "cell_type": "code",
   "execution_count": null,
   "metadata": {},
   "outputs": [],
   "source": [
    "# note that plot returns a list of lines.  The \"l1, = plot\" usage\n",
    "# extracts the first element of the list into l1 using tuple\n",
    "# unpacking.  So l1 is a Line2D instance, not a sequence of lines\n",
    "l1, = plt.plot(t2, np.exp(-t2))\n",
    "l2, l3 = plt.plot(t2, np.sin(2 * np.pi * t2), '--go', t1, np.log(1 + t1), '.')\n",
    "l4, = plt.plot(t2, np.exp(-t2) * np.sin(2 * np.pi * t2), 'rs-.')\n",
    "\n",
    "plt.legend( (l2, l4), ('oscillatory', 'damped'), loc='upper right', shadow=True)\n",
    "plt.xlabel('time')\n",
    "plt.ylabel('volts')\n",
    "plt.title('Damped oscillation')\n",
    "plt.show()"
   ]
  },
  {
   "cell_type": "code",
   "execution_count": null,
   "metadata": {},
   "outputs": [],
   "source": [
    "x = np.arange(-2*np.pi, 2*np.pi, 0.01)\n",
    "type(x)"
   ]
  },
  {
   "cell_type": "code",
   "execution_count": null,
   "metadata": {},
   "outputs": [],
   "source": [
    "x.shape"
   ]
  },
  {
   "cell_type": "code",
   "execution_count": null,
   "metadata": {},
   "outputs": [],
   "source": [
    "x.size"
   ]
  },
  {
   "cell_type": "code",
   "execution_count": null,
   "metadata": {},
   "outputs": [],
   "source": [
    "x.dtype"
   ]
  },
  {
   "cell_type": "code",
   "execution_count": null,
   "metadata": {},
   "outputs": [],
   "source": [
    "nums = np.arange(3, 12, 2)\n",
    "nums.dtype"
   ]
  },
  {
   "cell_type": "code",
   "execution_count": null,
   "metadata": {
    "scrolled": true
   },
   "outputs": [],
   "source": [
    "# random noise\n",
    "An = 0.1\n",
    "noise = An * np.random.randn(x.size)\n",
    "y = np.sin(x)\n",
    "\n",
    "OFFSET = 0.001\n",
    "signal = y + noise + OFFSET\n",
    "\n",
    "plt.figure()\n",
    "plt.plot(x, signal, '.')\n",
    "plt.show()"
   ]
  }
 ],
 "metadata": {
  "kernelspec": {
   "display_name": "Python 3",
   "language": "python",
   "name": "python3"
  },
  "language_info": {
   "codemirror_mode": {
    "name": "ipython",
    "version": 3
   },
   "file_extension": ".py",
   "mimetype": "text/x-python",
   "name": "python",
   "nbconvert_exporter": "python",
   "pygments_lexer": "ipython3",
   "version": "3.5.2"
  }
 },
 "nbformat": 4,
 "nbformat_minor": 2
}
